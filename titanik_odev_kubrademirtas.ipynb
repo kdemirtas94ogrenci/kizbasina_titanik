{
 "cells": [
  {
   "cell_type": "code",
   "execution_count": 1,
   "id": "1f81e301-d0b8-4c34-8756-ed0f4cebc9a9",
   "metadata": {},
   "outputs": [
    {
     "data": {
      "text/html": [
       "<div>\n",
       "<style scoped>\n",
       "    .dataframe tbody tr th:only-of-type {\n",
       "        vertical-align: middle;\n",
       "    }\n",
       "\n",
       "    .dataframe tbody tr th {\n",
       "        vertical-align: top;\n",
       "    }\n",
       "\n",
       "    .dataframe thead th {\n",
       "        text-align: right;\n",
       "    }\n",
       "</style>\n",
       "<table border=\"1\" class=\"dataframe\">\n",
       "  <thead>\n",
       "    <tr style=\"text-align: right;\">\n",
       "      <th></th>\n",
       "      <th>PassengerId</th>\n",
       "      <th>Survived</th>\n",
       "      <th>Pclass</th>\n",
       "      <th>Name</th>\n",
       "      <th>Sex</th>\n",
       "      <th>Age</th>\n",
       "      <th>SibSp</th>\n",
       "      <th>Parch</th>\n",
       "      <th>Ticket</th>\n",
       "      <th>Fare</th>\n",
       "      <th>Cabin</th>\n",
       "      <th>Embarked</th>\n",
       "    </tr>\n",
       "  </thead>\n",
       "  <tbody>\n",
       "    <tr>\n",
       "      <th>0</th>\n",
       "      <td>1</td>\n",
       "      <td>0</td>\n",
       "      <td>3</td>\n",
       "      <td>Braund, Mr. Owen Harris</td>\n",
       "      <td>male</td>\n",
       "      <td>22.0</td>\n",
       "      <td>1</td>\n",
       "      <td>0</td>\n",
       "      <td>A/5 21171</td>\n",
       "      <td>7.2500</td>\n",
       "      <td>NaN</td>\n",
       "      <td>S</td>\n",
       "    </tr>\n",
       "    <tr>\n",
       "      <th>1</th>\n",
       "      <td>2</td>\n",
       "      <td>1</td>\n",
       "      <td>1</td>\n",
       "      <td>Cumings, Mrs. John Bradley (Florence Briggs Th...</td>\n",
       "      <td>female</td>\n",
       "      <td>38.0</td>\n",
       "      <td>1</td>\n",
       "      <td>0</td>\n",
       "      <td>PC 17599</td>\n",
       "      <td>71.2833</td>\n",
       "      <td>C85</td>\n",
       "      <td>C</td>\n",
       "    </tr>\n",
       "    <tr>\n",
       "      <th>2</th>\n",
       "      <td>3</td>\n",
       "      <td>1</td>\n",
       "      <td>3</td>\n",
       "      <td>Heikkinen, Miss. Laina</td>\n",
       "      <td>female</td>\n",
       "      <td>26.0</td>\n",
       "      <td>0</td>\n",
       "      <td>0</td>\n",
       "      <td>STON/O2. 3101282</td>\n",
       "      <td>7.9250</td>\n",
       "      <td>NaN</td>\n",
       "      <td>S</td>\n",
       "    </tr>\n",
       "    <tr>\n",
       "      <th>3</th>\n",
       "      <td>4</td>\n",
       "      <td>1</td>\n",
       "      <td>1</td>\n",
       "      <td>Futrelle, Mrs. Jacques Heath (Lily May Peel)</td>\n",
       "      <td>female</td>\n",
       "      <td>35.0</td>\n",
       "      <td>1</td>\n",
       "      <td>0</td>\n",
       "      <td>113803</td>\n",
       "      <td>53.1000</td>\n",
       "      <td>C123</td>\n",
       "      <td>S</td>\n",
       "    </tr>\n",
       "    <tr>\n",
       "      <th>4</th>\n",
       "      <td>5</td>\n",
       "      <td>0</td>\n",
       "      <td>3</td>\n",
       "      <td>Allen, Mr. William Henry</td>\n",
       "      <td>male</td>\n",
       "      <td>35.0</td>\n",
       "      <td>0</td>\n",
       "      <td>0</td>\n",
       "      <td>373450</td>\n",
       "      <td>8.0500</td>\n",
       "      <td>NaN</td>\n",
       "      <td>S</td>\n",
       "    </tr>\n",
       "  </tbody>\n",
       "</table>\n",
       "</div>"
      ],
      "text/plain": [
       "   PassengerId  Survived  Pclass  \\\n",
       "0            1         0       3   \n",
       "1            2         1       1   \n",
       "2            3         1       3   \n",
       "3            4         1       1   \n",
       "4            5         0       3   \n",
       "\n",
       "                                                Name     Sex   Age  SibSp  \\\n",
       "0                            Braund, Mr. Owen Harris    male  22.0      1   \n",
       "1  Cumings, Mrs. John Bradley (Florence Briggs Th...  female  38.0      1   \n",
       "2                             Heikkinen, Miss. Laina  female  26.0      0   \n",
       "3       Futrelle, Mrs. Jacques Heath (Lily May Peel)  female  35.0      1   \n",
       "4                           Allen, Mr. William Henry    male  35.0      0   \n",
       "\n",
       "   Parch            Ticket     Fare Cabin Embarked  \n",
       "0      0         A/5 21171   7.2500   NaN        S  \n",
       "1      0          PC 17599  71.2833   C85        C  \n",
       "2      0  STON/O2. 3101282   7.9250   NaN        S  \n",
       "3      0            113803  53.1000  C123        S  \n",
       "4      0            373450   8.0500   NaN        S  "
      ]
     },
     "execution_count": 1,
     "metadata": {},
     "output_type": "execute_result"
    }
   ],
   "source": [
    "import pandas as pd\n",
    "df_titanic = pd.read_csv(\"train.csv\")\n",
    "\n",
    "df_titanic.head()"
   ]
  },
  {
   "cell_type": "code",
   "execution_count": 2,
   "id": "675ec3c7-730d-414c-9f16-2983d7f8b333",
   "metadata": {},
   "outputs": [
    {
     "data": {
      "text/plain": [
       "30.62617924528302"
      ]
     },
     "execution_count": 2,
     "metadata": {},
     "output_type": "execute_result"
    }
   ],
   "source": [
    "#Kazada ölenlerin yaş ortalaması\n",
    "\n",
    "olen_yasort = df_titanic[df_titanic[\"Survived\"] == 0][\"Age\"].mean()\n",
    "olen_yasort"
   ]
  },
  {
   "cell_type": "code",
   "execution_count": 3,
   "id": "2f2461e5-3d4d-44ae-b744-c73bcadc53e7",
   "metadata": {},
   "outputs": [
    {
     "data": {
      "text/plain": [
       "(22.117886885245902, 10.5)"
      ]
     },
     "execution_count": 3,
     "metadata": {},
     "output_type": "execute_result"
    }
   ],
   "source": [
    "\n",
    "#2.Kazada ölenlerin bilet fiyatlarının ortalamasını ve medyanını bulunuz\n",
    "\n",
    "olenler = df_titanic[df_titanic[\"Survived\"] == 0]\n",
    "olen_ucret_ort = olenler[\"Fare\"].mean()\n",
    "olen_ucret_medyan = olenler[\"Fare\"].median()\n",
    "\n",
    "olen_ucret_ort, olen_ucret_medyan"
   ]
  },
  {
   "cell_type": "code",
   "execution_count": 4,
   "id": "b2e49650-c688-4c20-ac06-094522f59199",
   "metadata": {},
   "outputs": [
    {
     "data": {
      "text/plain": [
       "31.618055555555557"
      ]
     },
     "execution_count": 4,
     "metadata": {},
     "output_type": "execute_result"
    }
   ],
   "source": [
    "#3. Kazada ölen erkeklerin yaş ortalamasını bulunuz\n",
    "\n",
    "olen_erkekler = df_titanic[(df_titanic[\"Survived\"] == 0) & (df_titanic[\"Sex\"] == \"male\")]\n",
    "olen_erkek_yas_ort = olen_erkekler[\"Age\"].mean()\n",
    "\n",
    "olen_erkek_yas_ort"
   ]
  },
  {
   "cell_type": "code",
   "execution_count": 5,
   "id": "db911466-da11-4bd1-ad65-8d70d987e091",
   "metadata": {},
   "outputs": [
    {
     "data": {
      "text/plain": [
       "25.046875"
      ]
     },
     "execution_count": 5,
     "metadata": {},
     "output_type": "execute_result"
    }
   ],
   "source": [
    "#4. Kazada ölen kadınların yaş ortalamasını bulunuz\n",
    "\n",
    "olen_kadinlar = df_titanic[(df_titanic[\"Survived\"] == 0) & (df_titanic[\"Sex\"] == \"female\")]\n",
    "olen_kadin_yas_ort = olen_kadinlar[\"Age\"].mean()\n",
    "\n",
    "olen_kadin_yas_ort"
   ]
  },
  {
   "cell_type": "code",
   "execution_count": 6,
   "id": "186194f0-d171-49d3-b9bc-d70afb5e939c",
   "metadata": {},
   "outputs": [
    {
     "data": {
      "text/plain": [
       "28.343689655172415"
      ]
     },
     "execution_count": 6,
     "metadata": {},
     "output_type": "execute_result"
    }
   ],
   "source": [
    "#5. Kazadan kurtulanların yaş ortalamasını bulunuz\n",
    "\n",
    "kurtulanlar = df_titanic[df_titanic[\"Survived\"] == 1]\n",
    "kurtulan_yas_ort = kurtulanlar[\"Age\"].mean()\n",
    "\n",
    "kurtulan_yas_ort"
   ]
  },
  {
   "cell_type": "code",
   "execution_count": 7,
   "id": "9c651269-c681-4733-88df-695298dd1ca7",
   "metadata": {},
   "outputs": [
    {
     "data": {
      "text/plain": [
       "48.39540760233918"
      ]
     },
     "execution_count": 7,
     "metadata": {},
     "output_type": "execute_result"
    }
   ],
   "source": [
    "#6. Kazadan kurtulanların bilet fiyatlarının ortalamasını bulunuz\n",
    "\n",
    "kurtulan_ucret_ort = kurtulanlar[\"Fare\"].mean()\n",
    "\n",
    "kurtulan_ucret_ort"
   ]
  },
  {
   "cell_type": "code",
   "execution_count": 8,
   "id": "2be5307d-cf38-4a03-b041-59c26b5cd265",
   "metadata": {},
   "outputs": [
    {
     "data": {
      "text/plain": [
       "342"
      ]
     },
     "execution_count": 8,
     "metadata": {},
     "output_type": "execute_result"
    }
   ],
   "source": [
    "#7. Kazadan kurtulan toplam kişi sayısını bulunuz\n",
    "\n",
    "kurtulan_sayi = len(df_titanic[df_titanic[\"Survived\"] == 1])\n",
    "kurtulan_sayi"
   ]
  },
  {
   "cell_type": "code",
   "execution_count": 9,
   "id": "827ce993-2160-44e7-aa34-2b44ad741b5e",
   "metadata": {},
   "outputs": [
    {
     "data": {
      "text/plain": [
       "27.0"
      ]
     },
     "execution_count": 9,
     "metadata": {},
     "output_type": "execute_result"
    }
   ],
   "source": [
    "#8. 10 yaşından küçüklerin bilet fiyatlarının medyan değerini bulunuz\n",
    "\n",
    "cocuklar = df_titanic[df_titanic[\"Age\"] < 10]\n",
    "cocuk_ucret_medyan = cocuklar[\"Fare\"].median()\n",
    "\n",
    "cocuk_ucret_medyan"
   ]
  },
  {
   "cell_type": "code",
   "execution_count": 10,
   "id": "f8e95fe5-08be-42e6-b59a-ce14ba5818c1",
   "metadata": {},
   "outputs": [
    {
     "data": {
      "text/html": [
       "<div>\n",
       "<style scoped>\n",
       "    .dataframe tbody tr th:only-of-type {\n",
       "        vertical-align: middle;\n",
       "    }\n",
       "\n",
       "    .dataframe tbody tr th {\n",
       "        vertical-align: top;\n",
       "    }\n",
       "\n",
       "    .dataframe thead th {\n",
       "        text-align: right;\n",
       "    }\n",
       "</style>\n",
       "<table border=\"1\" class=\"dataframe\">\n",
       "  <thead>\n",
       "    <tr style=\"text-align: right;\">\n",
       "      <th></th>\n",
       "      <th>mean</th>\n",
       "      <th>median</th>\n",
       "    </tr>\n",
       "    <tr>\n",
       "      <th>Pclass</th>\n",
       "      <th></th>\n",
       "      <th></th>\n",
       "    </tr>\n",
       "  </thead>\n",
       "  <tbody>\n",
       "    <tr>\n",
       "      <th>1</th>\n",
       "      <td>84.154687</td>\n",
       "      <td>60.2875</td>\n",
       "    </tr>\n",
       "    <tr>\n",
       "      <th>2</th>\n",
       "      <td>20.662183</td>\n",
       "      <td>14.2500</td>\n",
       "    </tr>\n",
       "    <tr>\n",
       "      <th>3</th>\n",
       "      <td>13.675550</td>\n",
       "      <td>8.0500</td>\n",
       "    </tr>\n",
       "  </tbody>\n",
       "</table>\n",
       "</div>"
      ],
      "text/plain": [
       "             mean   median\n",
       "Pclass                    \n",
       "1       84.154687  60.2875\n",
       "2       20.662183  14.2500\n",
       "3       13.675550   8.0500"
      ]
     },
     "execution_count": 10,
     "metadata": {},
     "output_type": "execute_result"
    }
   ],
   "source": [
    "#9. 1., 2. ve 3. sınıf bilet fiyatlarının ortalama ve medyanlarını karşılaştırınız\n",
    "\n",
    "sinif_ucret_ozet = df_titanic.groupby(\"Pclass\")[\"Fare\"].agg([\"mean\", \"median\"])\n",
    "sinif_ucret_ozet"
   ]
  },
  {
   "cell_type": "code",
   "execution_count": 12,
   "id": "be3a9889-9c06-4be5-8bd2-57c7ce0ab382",
   "metadata": {},
   "outputs": [
    {
     "data": {
      "text/plain": [
       "(0.8110918544194108, 0.25796178343949044)"
      ]
     },
     "execution_count": 12,
     "metadata": {},
     "output_type": "execute_result"
    }
   ],
   "source": [
    "#10. Kazada ölen kadınların oranı ile erkeklerin oranını karşılaştırınız\n",
    "\n",
    "# Erkekler\n",
    "tum_erkekler = df_titanic[df_titanic[\"Sex\"] == \"male\"]\n",
    "olen_erkekler = tum_erkekler[tum_erkekler[\"Survived\"] == 0]\n",
    "olen_erkek_oran = len(olen_erkekler) / len(tum_erkekler)\n",
    "\n",
    "# Kadınlar\n",
    "tum_kadinlar = df_titanic[df_titanic[\"Sex\"] == \"female\"]\n",
    "olen_kadinlar = tum_kadinlar[tum_kadinlar[\"Survived\"] == 0]\n",
    "olen_kadin_oran = len(olen_kadinlar) / len(tum_kadinlar)\n",
    "\n",
    "olen_erkek_oran, olen_kadin_oran"
   ]
  },
  {
   "cell_type": "code",
   "execution_count": null,
   "id": "9ee9e182-e239-44b3-9fee-bd2079839a48",
   "metadata": {},
   "outputs": [],
   "source": []
  }
 ],
 "metadata": {
  "kernelspec": {
   "display_name": "Python [conda env:base] *",
   "language": "python",
   "name": "conda-base-py"
  },
  "language_info": {
   "codemirror_mode": {
    "name": "ipython",
    "version": 3
   },
   "file_extension": ".py",
   "mimetype": "text/x-python",
   "name": "python",
   "nbconvert_exporter": "python",
   "pygments_lexer": "ipython3",
   "version": "3.12.7"
  }
 },
 "nbformat": 4,
 "nbformat_minor": 5
}
